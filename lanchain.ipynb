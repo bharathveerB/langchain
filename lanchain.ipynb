{
  "nbformat": 4,
  "nbformat_minor": 0,
  "metadata": {
    "colab": {
      "provenance": [],
      "authorship_tag": "ABX9TyPpaPdb44CEiVa1i+Y9EA+I"
    },
    "kernelspec": {
      "name": "python3",
      "display_name": "Python 3"
    },
    "language_info": {
      "name": "python"
    }
  },
  "cells": [
    {
      "cell_type": "code",
      "execution_count": 14,
      "metadata": {
        "id": "XCKr3UDBhE6m"
      },
      "outputs": [],
      "source": [
        "#pip install langchain"
      ]
    },
    {
      "cell_type": "code",
      "source": [
        "#pip install pinecone"
      ],
      "metadata": {
        "id": "xt-3hVRvhN0U"
      },
      "execution_count": 15,
      "outputs": []
    },
    {
      "cell_type": "code",
      "source": [
        "#pip install python-dotenv"
      ],
      "metadata": {
        "id": "7VTXZ0Nnhk6t"
      },
      "execution_count": 16,
      "outputs": []
    },
    {
      "cell_type": "code",
      "source": [
        "from dotenv import load_dotenv,find_dotenv\n",
        "load_dotenv(find_dotenv())"
      ],
      "metadata": {
        "colab": {
          "base_uri": "https://localhost:8080/"
        },
        "id": "j5a0OhL6h0d1",
        "outputId": "01aa6400-0822-40a4-a4af-7c13f8615944"
      },
      "execution_count": 23,
      "outputs": [
        {
          "output_type": "execute_result",
          "data": {
            "text/plain": [
              "True"
            ]
          },
          "metadata": {},
          "execution_count": 23
        }
      ]
    },
    {
      "cell_type": "code",
      "source": [
        "#pip install langchain-community\n"
      ],
      "metadata": {
        "id": "yBH-8fJ_h__3"
      },
      "execution_count": 18,
      "outputs": []
    },
    {
      "cell_type": "code",
      "source": [
        "#pip install openai"
      ],
      "metadata": {
        "id": "4aByAq56kbtl"
      },
      "execution_count": 19,
      "outputs": []
    },
    {
      "cell_type": "code",
      "source": [
        "from langchain_community.chat_models import ChatOpenAI\n",
        "from langchain.schema import HumanMessage\n",
        "\n",
        "llm = ChatOpenAI(model=\"gpt-4\")  # Or just \"gpt-4\" or \"gpt-3.5-turbo\"\n",
        "\n",
        "response = llm([HumanMessage(content=\"Explain large language models in one sentence\")])\n",
        "print(response.content)\n"
      ],
      "metadata": {
        "colab": {
          "base_uri": "https://localhost:8080/"
        },
        "id": "bfTsA405h5AV",
        "outputId": "5bbd484b-f34e-4a15-9f1f-bc669c8559d5"
      },
      "execution_count": 27,
      "outputs": [
        {
          "output_type": "stream",
          "name": "stdout",
          "text": [
            "Large language models are machine learning models trained on vast amounts of text data to generate human-like text based on the input they receive.\n",
            "\n"
          ]
        }
      ]
    },
    {
      "cell_type": "code",
      "source": [
        "from langchain.schema import (\n",
        "    AIMessage,\n",
        "    HumanMessage,\n",
        "    SystemMessage\n",
        ")\n",
        "from langchain.chat_models import ChatOpenAI"
      ],
      "metadata": {
        "id": "ex3ewpqdooyW"
      },
      "execution_count": 28,
      "outputs": []
    },
    {
      "cell_type": "code",
      "source": [
        "chat = ChatOpenAI(model_name=\"gpt-4\",temperature=0.3)\n",
        "messages = [\n",
        "    SystemMessage(content=\"You are an expert data scientist\"),\n",
        "    HumanMessage(content=\"Write a Python script that trains a neural network on simulated data \")\n",
        "]\n",
        "response=chat(messages)\n",
        "\n",
        "print(response.content,end='\\n')"
      ],
      "metadata": {
        "colab": {
          "base_uri": "https://localhost:8080/"
        },
        "id": "BdQf81aGo4iX",
        "outputId": "1b32976c-0a4c-40df-f38f-426b78862c18"
      },
      "execution_count": 29,
      "outputs": [
        {
          "output_type": "stream",
          "name": "stdout",
          "text": [
            "Sure, here's a simple example of a Python script that uses Keras to train a neural network on simulated data. This example uses the sklearn.datasets.make_regression function to generate a dataset for a simple regression problem.\n",
            "\n",
            "```python\n",
            "# Import necessary libraries\n",
            "from sklearn.datasets import make_regression\n",
            "from sklearn.model_selection import train_test_split\n",
            "from keras.models import Sequential\n",
            "from keras.layers import Dense\n",
            "from keras.optimizers import Adam\n",
            "\n",
            "# Generate a dataset with 1000 samples and 20 features\n",
            "X, y = make_regression(n_samples=1000, n_features=20, noise=0.1, random_state=1)\n",
            "\n",
            "# Split the dataset into training and testing sets\n",
            "X_train, X_test, y_train, y_test = train_test_split(X, y, test_size=0.2, random_state=1)\n",
            "\n",
            "# Define the model\n",
            "model = Sequential()\n",
            "model.add(Dense(32, input_dim=20, activation='relu'))\n",
            "model.add(Dense(16, activation='relu'))\n",
            "model.add(Dense(1, activation='linear'))\n",
            "\n",
            "# Compile the model\n",
            "model.compile(loss='mean_squared_error', optimizer=Adam())\n",
            "\n",
            "# Train the model\n",
            "model.fit(X_train, y_train, validation_data=(X_test, y_test), epochs=50, batch_size=10)\n",
            "```\n",
            "\n",
            "This script first generates a dataset with 1000 samples and 20 features. It then splits this dataset into a training set and a testing set. A simple neural network is defined with one input layer, one hidden layer, and one output layer. The model is compiled with the Adam optimizer and the mean squared error loss function, which is a common choice for regression problems. Finally, the model is trained on the training data for 50 epochs with a batch size of 10.\n"
          ]
        }
      ]
    },
    {
      "cell_type": "code",
      "source": [
        "# Import prompt and define PromptTemplate\n",
        "\n",
        "from langchain import PromptTemplate\n",
        "\n",
        "template = \"\"\"\n",
        "You are an expert data scientist with an expertise in building deep learning models.\n",
        "Explain the concept of {concept} in a couple of lines\n",
        "\"\"\"\n",
        "\n",
        "prompt = PromptTemplate(\n",
        "    input_variables=[\"concept\"],\n",
        "    template=template,\n",
        ")"
      ],
      "metadata": {
        "id": "P5dhmQS1pKfN"
      },
      "execution_count": 30,
      "outputs": []
    },
    {
      "cell_type": "code",
      "source": [
        "#Run LLM with PromptTemplate\n",
        "response = llm([HumanMessage(content=prompt.format(concept=\"autoencoder\"))])\n",
        "print(response.content)\n"
      ],
      "metadata": {
        "colab": {
          "base_uri": "https://localhost:8080/"
        },
        "id": "39YosKIwpQpO",
        "outputId": "80b17a7c-e208-4f18-ae25-b8418c0cbbc7"
      },
      "execution_count": 34,
      "outputs": [
        {
          "output_type": "stream",
          "name": "stdout",
          "text": [
            "An autoencoder is a type of artificial neural network used for learning efficient codings of input data. It's an unsupervised learning technique that applies backpropagation, setting the target values to be equal to the inputs, essentially using the input itself as its own label. Its architecture consists of two main parts: an encoder that compresses the input data and a decoder that reconstructs the input data from the compressed representation.\n"
          ]
        }
      ]
    },
    {
      "cell_type": "code",
      "source": [
        "# Import LLMChain and define chain with language model and prompt as arguments.\n",
        "\n",
        "from langchain.chains import LLMChain\n",
        "chain = LLMChain(llm=llm, prompt=prompt)\n",
        "\n",
        "# Run the chain only specifying the input variable.\n",
        "print(chain.run(\"autoencoder\"))"
      ],
      "metadata": {
        "colab": {
          "base_uri": "https://localhost:8080/"
        },
        "id": "oO8KrmJFplVr",
        "outputId": "0d00798c-19bf-47bb-ba5c-37d8e8325b31"
      },
      "execution_count": 35,
      "outputs": [
        {
          "output_type": "stream",
          "name": "stderr",
          "text": [
            "<ipython-input-35-2142282310>:4: LangChainDeprecationWarning: The class `LLMChain` was deprecated in LangChain 0.1.17 and will be removed in 1.0. Use :meth:`~RunnableSequence, e.g., `prompt | llm`` instead.\n",
            "  chain = LLMChain(llm=llm, prompt=prompt)\n",
            "<ipython-input-35-2142282310>:7: LangChainDeprecationWarning: The method `Chain.run` was deprecated in langchain 0.1.0 and will be removed in 1.0. Use :meth:`~invoke` instead.\n",
            "  print(chain.run(\"autoencoder\"))\n"
          ]
        },
        {
          "output_type": "stream",
          "name": "stdout",
          "text": [
            "An autoencoder is a type of artificial neural network used for learning efficient codings of input data. It's designed to reconstruct the original input from a reduced encoded representation of the data, in essence performing tasks of both compression and decompression. This is often used for dimensionality reduction or as a generative model.\n"
          ]
        }
      ]
    },
    {
      "cell_type": "code",
      "source": [
        "# Define a second prompt\n",
        "\n",
        "second_prompt = PromptTemplate(\n",
        "    input_variables=[\"ml_concept\"],\n",
        "    template=\"Turn the concept description of {ml_concept} and explain it to me like I'm five in 500 words\",\n",
        ")\n",
        "chain_two = LLMChain(llm=llm, prompt=second_prompt)"
      ],
      "metadata": {
        "id": "DkqUJSUWprej"
      },
      "execution_count": 36,
      "outputs": []
    },
    {
      "cell_type": "code",
      "source": [
        "from langchain.chains import SimpleSequentialChain\n",
        "overall_chain = SimpleSequentialChain(chains=[chain, chain_two], verbose=True)\n",
        "\n",
        "# Run the chain specifying only the input variable for the first chain.\n",
        "explanation = overall_chain.run(\"autoencoder\")\n",
        "print(explanation)"
      ],
      "metadata": {
        "colab": {
          "base_uri": "https://localhost:8080/"
        },
        "id": "zWcW76rapuX2",
        "outputId": "5dadcedb-5993-492d-bf1c-215f5bc06c99"
      },
      "execution_count": 37,
      "outputs": [
        {
          "output_type": "stream",
          "name": "stdout",
          "text": [
            "\n",
            "\n",
            "\u001b[1m> Entering new SimpleSequentialChain chain...\u001b[0m\n",
            "\u001b[36;1m\u001b[1;3mAn autoencoder is a type of artificial neural network used for learning efficient codings of input data. It's designed to reconstruct the original input from a reduced encoded representation of that input, essentially learning a compressed representation of the data. It's widely used for feature selection and extraction, dimensionality reduction, and for learning generative models of data.\u001b[0m\n",
            "\u001b[33;1m\u001b[1;3mAlright kiddo, imagine you have a massive toy box filled with all sorts of toys. Now, this is a lot of fun, but it can get really messy and hard to find the toy that you want to play with, right? Well, imagine you had a magical toy box that could sort out all your toys for you, so you can easily find the one you want. This is kind of what an autoencoder does, but with information instead of toys.\n",
            "\n",
            "An autoencoder is like a super-smart robot that we use to help us manage a lot of information. Imagine you have a big book with lots of words, but you can't read all of them because it would take too much time. Our robot, the autoencoder, reads the book for us and tells us what's most important in simpler, fewer words. \n",
            "\n",
            "The way it does this is pretty cool. The robot takes all the information - like all the words in the book - and turns it into a secret code. This code is much smaller than the original book, just like a secret message is shorter than a full letter. This is what we call the \"encoded\" version of the book. \n",
            "\n",
            "But what if we want to read the book again? Well, the robot can turn the secret code back into the original book. It's like magic! The robot can \"decode\" the secret code to give us the whole book again. This is why we call it an autoencoder, because it can automatically encode and decode the information.\n",
            "\n",
            "Now, the robot might not get everything perfectly right. Imagine if you had to retell a story you heard only once. You might miss a few details, right? The same thing can happen with the autoencoder. But the cool thing is, the more times the autoencoder gets to practice, the better it becomes at remembering the information.\n",
            "\n",
            "Just like how you might use different boxes to sort your toys - one for cars, one for dolls, one for legos - the autoencoder can find different types of information in the data. This is called \"feature selection and extraction\". It's like the robot figuring out that there are cars, dolls, and legos in your toy box.\n",
            "\n",
            "Also, just like how putting your toys in different boxes makes it easier for you to find them, the robot's secret code makes it easier for us to use the information. This is called \"dimensionality reduction\". It's like the robot condensing your huge toy box into a few smaller, organized ones.\n",
            "\n",
            "Lastly, the robot can also learn to create new information that's similar to what it's seen before. It's like if the robot saw your toy cars and dolls, and then could imagine a toy airplane. This is called \"learning generative models of data\".\n",
            "\n",
            "So, in a nutshell, an autoencoder is a super-smart robot that helps us understand and use a lot of information more easily. It's like a magical toy box for information!\u001b[0m\n",
            "\n",
            "\u001b[1m> Finished chain.\u001b[0m\n",
            "Alright kiddo, imagine you have a massive toy box filled with all sorts of toys. Now, this is a lot of fun, but it can get really messy and hard to find the toy that you want to play with, right? Well, imagine you had a magical toy box that could sort out all your toys for you, so you can easily find the one you want. This is kind of what an autoencoder does, but with information instead of toys.\n",
            "\n",
            "An autoencoder is like a super-smart robot that we use to help us manage a lot of information. Imagine you have a big book with lots of words, but you can't read all of them because it would take too much time. Our robot, the autoencoder, reads the book for us and tells us what's most important in simpler, fewer words. \n",
            "\n",
            "The way it does this is pretty cool. The robot takes all the information - like all the words in the book - and turns it into a secret code. This code is much smaller than the original book, just like a secret message is shorter than a full letter. This is what we call the \"encoded\" version of the book. \n",
            "\n",
            "But what if we want to read the book again? Well, the robot can turn the secret code back into the original book. It's like magic! The robot can \"decode\" the secret code to give us the whole book again. This is why we call it an autoencoder, because it can automatically encode and decode the information.\n",
            "\n",
            "Now, the robot might not get everything perfectly right. Imagine if you had to retell a story you heard only once. You might miss a few details, right? The same thing can happen with the autoencoder. But the cool thing is, the more times the autoencoder gets to practice, the better it becomes at remembering the information.\n",
            "\n",
            "Just like how you might use different boxes to sort your toys - one for cars, one for dolls, one for legos - the autoencoder can find different types of information in the data. This is called \"feature selection and extraction\". It's like the robot figuring out that there are cars, dolls, and legos in your toy box.\n",
            "\n",
            "Also, just like how putting your toys in different boxes makes it easier for you to find them, the robot's secret code makes it easier for us to use the information. This is called \"dimensionality reduction\". It's like the robot condensing your huge toy box into a few smaller, organized ones.\n",
            "\n",
            "Lastly, the robot can also learn to create new information that's similar to what it's seen before. It's like if the robot saw your toy cars and dolls, and then could imagine a toy airplane. This is called \"learning generative models of data\".\n",
            "\n",
            "So, in a nutshell, an autoencoder is a super-smart robot that helps us understand and use a lot of information more easily. It's like a magical toy box for information!\n"
          ]
        }
      ]
    },
    {
      "cell_type": "code",
      "source": [
        "from langchain.text_splitter import RecursiveCharacterTextSplitter\n",
        "\n",
        "text_splitter = RecursiveCharacterTextSplitter(\n",
        "    chunk_size = 100,\n",
        "    chunk_overlap  = 0,\n",
        ")\n",
        "\n",
        "texts = text_splitter.create_documents([explanation])"
      ],
      "metadata": {
        "id": "rosM6MXhpyPh"
      },
      "execution_count": 38,
      "outputs": []
    },
    {
      "cell_type": "code",
      "source": [
        "texts[0].page_content"
      ],
      "metadata": {
        "colab": {
          "base_uri": "https://localhost:8080/",
          "height": 36
        },
        "id": "8laf0Ya7p7Vl",
        "outputId": "b76e3965-9707-4ca7-e1a5-f54ea6c51ddc"
      },
      "execution_count": 39,
      "outputs": [
        {
          "output_type": "execute_result",
          "data": {
            "text/plain": [
              "'Alright kiddo, imagine you have a massive toy box filled with all sorts of toys. Now, this is a lot'"
            ],
            "application/vnd.google.colaboratory.intrinsic+json": {
              "type": "string"
            }
          },
          "metadata": {},
          "execution_count": 39
        }
      ]
    },
    {
      "cell_type": "code",
      "source": [
        "from langchain.embeddings import OpenAIEmbeddings\n",
        "\n",
        "embeddings = OpenAIEmbeddings(model_name=\"text-embedding-ada-002\")"
      ],
      "metadata": {
        "id": "uOWItLFgp7td"
      },
      "execution_count": 41,
      "outputs": []
    },
    {
      "cell_type": "code",
      "source": [
        "query_result = embeddings.embed_query(texts[0].page_content)\n",
        "print(query_result)"
      ],
      "metadata": {
        "colab": {
          "base_uri": "https://localhost:8080/"
        },
        "id": "U6_g4-xwqQKt",
        "outputId": "fd38ad71-6d54-4721-81ae-f1301ba75cc7"
      },
      "execution_count": 42,
      "outputs": [
        {
          "output_type": "stream",
          "name": "stdout",
          "text": [
            "[-0.0061297696347447665, -0.00045429068463683604, -0.0014835430838650286, -0.022247625610560005, -0.03757993520569511, 0.021591426897534287, -0.0178813860589509, -0.03684802369231778, -0.01514302293764319, -0.019319973969115226, -0.0011838374244678902, -0.0014977396995922443, 0.0026121714730415954, -0.01337633753361116, 0.012114418722643584, 0.0015947496354258004, 0.023989072172711394, 0.0020742786671781575, 0.004464037269928853, -0.03793327154144345, 0.0008541611642064412, 0.005820599409642387, -0.019345212810995865, -0.03308750703261827, 0.003504978973593495, -0.007918539491083645, 0.00473219484263648, -0.02348430464832436, -0.009256172965047988, -0.004476656225207884, 0.02036736541806509, -0.016404941748610766, 0.011862034960450067, -0.022247625610560005, -0.005602918589373463, 0.009975466920130151, 0.006473642336110448, -0.011546555024877529, -0.0038362324868495006, 0.0018218950213999643, 0.019572356799986163, 0.0266769585415804, -0.0012524542452623368, -0.019471403295108755, 0.008656761646253711, 0.02170499982335201, -0.022373816094672892, -0.021389519887779474, -0.005296903219506165, 0.010234159461471248, 0.028166024135506007, 0.006057209361321792, -0.015938032487044698, -0.004132783523842203, 0.00765984601841997, 0.0027320538764988374, -0.016404941748610766, -0.01579922071934633, 0.008846049235068203, -0.0069784098604974785, 0.007369604459066782, 0.006909004442309584, 0.008846049235068203, -0.00032573274942526, -0.0008360210958506975, 0.0013896878868512302, -0.003445037888280196, -0.010335112966348654, -0.005259045888007782, -0.012884188498841872, 0.03434942304961811, 0.023421209406267917, -0.00269261888455227, -0.00017558413749648672, -0.01318704901347409, 0.0008746673157808336, 0.010543329686573627, 0.0322041624679571, 0.008745095730190796, 0.0072560319989103455, 0.00765353630794981, -0.03535895809839217, -0.025692662334686978, 0.010997620458521954, 0.02315620715445666, 0.003769981923896686, 0.01791924432177186, 0.037352789354059654, 0.003735278981972094, 0.016707802263242984, -0.0015884400413709624, 0.00037778687127384194, 0.02251262786237126, -0.015874935382343094, 0.02197000207516327, 0.0053757732033992995, 0.008852358945538364, 0.011224766310157409, 0.018941398791486243, -0.022235006189619683, -0.006091911837585094, 0.010568568528454269, -0.03881661610610462, -0.012158585764612127, -0.015710886635409243, -0.012366802484837099, 0.01611470065491887, 0.0007457150527687032, -0.0026263680887688113, 0.01109857396339936, -0.008909145408447226, 0.0212128517199053, 0.012682282420409637, -0.0244812202761581, 0.01615255891773983, -0.018045436668529907, 0.0061960201976975805, 0.0019212710986598303, -0.01484016242301097, -0.012802164125374946, 0.008278186468624727, 0.01533231145778026, 0.012051322549264559, 0.010032252451716437, 0.005290593974697294, 0.009230935054489926, 0.002620058611129296, -0.006795431516491857, -0.017338762134388064, -0.007521034716382892, 0.03583848864354372, 0.011117503094809841, 0.011016549589932435, 0.002874019568109706, -0.0353084841399212, 0.025162657831064462, 0.014057773225872363, 0.02381240400483722, 0.004839458057984047, 0.010808332869707463, 0.016884470431117158, 0.03326417520049244, -0.0031831897932120853, -0.012145966343671806, -0.028569836292370473, 0.021604046318474606, 0.03139653442893785, 0.014070392646812683, 0.0029591990296423567, -0.010448685892166382, 0.00800056386455057, 0.008846049235068203, 0.00765984601841997, 0.019080208696539452, 0.016442800011431728, 0.02960461018302518, 0.010839880490735686, 0.009369745890865715, -0.010789403738296982, -0.016669944000422023, 0.009950228078249511, -0.0037068859833483073, 0.01600112772910114, -0.010297255634850271, 0.006467332625640287, 0.024329790950164572, 0.021730238665232653, 0.006757574184993474, 0.011477150072350924, -0.0008581046750426301, -0.014789685670572268, 0.015243976442520596, -0.03508133828828575, 0.022235006189619683, -0.018575441172152422, -0.0007898821529449073, 0.015710886635409243, -0.01711161628275261, -0.019849980335382898, -0.01886568226584432, -0.016972804515054243, -0.0004389110564041263, -0.003571229536546309, 0.0037920654448809574, 0.0014843317976737985, -0.014764447760014206, -0.002590087952057324, -0.016354465927494642, 0.006281199892060875, 0.02074594245833923, 0.027964117125751194, 0.030260808896050897, -0.026348861047712696, -0.03404656439763105, -0.6683120756285581, 0.011306790683624333, 0.005028745646798539, -0.024683127285912914, 0.021616665739414925, 0.017313523292507422, 0.012341563642956457, 0.003697421417643067, -0.009117362128672198, -0.010789403738296982, -0.02284072721888412, 0.029251273847276833, 0.0025175276786343495, -0.014688732165694862, -0.0008336549544243875, -0.013653959206362738, 0.0059183980592847135, -0.01692232869393812, 0.0009432841365752805, 0.011085954542459042, 0.0034797405973741435, 0.01791924432177186, 0.0040097464979805255, 0.005593454023668223, -0.003590158435126145, 0.0072560319989103455, -0.011275243062596111, -0.00848009347837954, 0.017729956732957367, 0.007672464973699001, -0.0026941963121698102, 0.01910544753842009, -0.004959340228610644, 0.025061704326187057, 0.043283809162591134, -0.010063801004067237, -0.0012098645144960117, 0.027358396096486756, 0.03134605674517656, 0.011981917596737954, -0.008284495247772309, -0.017717337312017047, 0.019181162201416857, -0.018840445286608835, -0.008341281710681173, 0.016947567535818758, 0.01388110505799819, -0.009969157209659992, -0.0178813860589509, -0.020279031334128006, -0.007439010342915966, -0.005555596692169841, 0.0035302173498128466, -0.006732335808774123, -0.0040097464979805255, 0.0009409180533566315, 0.01643018059049141, 0.006814360647902338, 0.006218103718681852, -0.014537301908378753, 0.006145543445258877, 0.0015979044906608804, -0.025604328250749892, -0.00334092952816771, -0.027585540085477055, 0.013553005701485332, -0.015130404448025448, -0.021452616992481074, -0.004372547865095398, -0.023320255901390512, 0.012972523514101535, 0.010574878238924428, -0.010158444798474484, 0.010158444798474484, 0.019849980335382898, 0.024241456866227487, 0.02773697127411574, -0.00832235351059327, -0.010505472355075245, 0.014865401264891612, 0.02637409802694818, 0.005789051788614165, -0.03818565623495954, -0.01581184014028665, 0.029427942015151004, -0.009325578848897172, -0.011382506277943677, 0.01336371811267084, -3.0833205660949236e-05, -0.007924849201553806, 0.0027541373974831087, 0.02097308644732953, -0.009981775699277733, -0.027585540085477055, -0.003391406280606413, -0.00781758598620624, -0.037882797582972486, 0.021944765095927785, 0.014915878017330315, -0.010038562162186597, -0.0114140538989719, -0.009918680457221288, 0.005356844537650109, 0.01319966843441441, -0.01384324679517723, 0.012840021456873327, -0.0041958792315599375, 0.0419714117365397, 0.026803150888338446, -0.02407740625664848, -0.004363083765051448, -0.016076842392097907, -0.005899469393535522, -0.002523837156273865, -0.014310156988065878, -0.021086659373147253, 0.006965790905218447, 0.01140143447803158, 0.008391758463119875, -0.013767532132180465, 0.028443645808257586, 0.03619182497929206, 0.01566041081429312, 0.007129840117813587, 0.01991307557743934, 0.020417843101826372, 0.0036721830414237155, -0.020947849468094044, -0.007716632481328833, -0.013237525765912793, 0.00765984601841997, -0.03609087333705981, 0.020039267924197388, -0.02463265146479679, 0.009483317885360863, 0.01155917444581785, 0.0332389363586118, -0.019534500399810358, 0.02935222735215424, -0.024885034295667727, 0.00236609742131824, 0.010688450233419576, 0.019799502651621614, 0.004836303202748966, 0.008524260520348083, -0.000858893330643739, -0.0179444831636525, -0.01059380643901233, -0.008391758463119875, 0.0062748901815907155, -0.008581046051934367, -0.012007155507296016, -0.011174289557718705, -0.008347591421151332, 0.015887554803283417, -0.009893441615340648, -0.0075021060506337, -0.008088897948487656, -0.014234442325069112, -0.009167838881110902, 0.00506344858872313, 0.024544317380859704, -0.012959904093161214, -0.00440094109654983, -0.012814783546315265, -0.01814639017340731, 0.0015529486184682453, 0.009287720586076211, -0.02054403544858442, -0.020834276542276316, 0.0038740900511785277, -0.021780714486348777, -0.01384324679517723, 0.016203034738855954, -0.017843529658775094, -0.007476867674414349, -0.01042344798160832, -0.02571790117656762, 0.009382364380483456, 0.0005883695583021411, -0.00010696731670204001, 0.0028140784827964077, -0.024178359761525884, 0.012303706311458076, 0.024519078538979066, -0.013780151553120784, 0.017174711524809056, 0.01659422933742526, -0.04219855758817515, 0.005318986740490437, 0.01484016242301097, 0.030513191726921834, -0.013161811102916027, -0.002656338747840783, -0.006240187705327412, -0.016215654159796276, -0.004634396192994154, 0.024102645098529118, 0.021780714486348777, 0.030563669410683114, 0.00944546055386248, 0.003896173804993444, 0.008536879009965824, -0.0025459206772581364, 0.02750982542248029, -0.013818008884619168, 0.011268933352125952, -0.020140221429074796, 0.017048521040696166, 0.0071235304073434275, 0.009906061036280969, -0.02199524091704391, 0.01567302837258828, 0.012171205185552446, 0.017982339563828303, 0.02872126748100916, -0.004325225967891776, 0.013792770042738527, 0.01319966843441441, -0.023433828827208236, 0.0156477913933528, -0.01837353416239761, 0.023749308762780776, 0.009653677274087452, -0.02718172606596743, -0.023395970564387275, 0.008650451935783551, 0.016190415317915634, 0.012997761424659597, -0.0202411749339522, -0.00538208291386946, 0.01660684875836558, 0.008057350327459434, 0.016051605412862425, -0.016909709272997796, 0.0006498880712329799, 0.016203034738855954, -0.004782671595075183, 0.03303702934885699, 0.00603512584033752, 0.002848781191890355, 0.033062268190737626, 0.03566182047566955, -0.0008478515701516033, 0.005240117222258592, 0.011603341487786393, 0.01581184014028665, 0.004766897318899782, -0.02965508786678646, 0.012997761424659597, -0.02137690046683915, -0.018714252939850788, -0.03687326253419842, 0.014272299656567495, -0.010814642580177624, 0.006344295599778609, 0.020316889596948967, 0.004344154633640967, 0.02493551197942901, 0.034627046585014844, 0.0025364563443835406, -0.003921411948382151, -0.006123459924274606, 0.00048150081627428205, 0.016026366570981783, 0.010915596085055029, -0.029705563687902583, -0.01092821550599535, -0.0008186696830960627, 0.022500008441430942, -0.02960461018302518, -9.089757116261417e-05, -0.01174215232416218, -0.005072912688767081, -0.004372547865095398, -0.012890498209312031, -0.014486825155940049, 0.011350957725592876, -0.0006652676994656896, 0.008991169781914152, 0.00031390224602052363, -0.03687326253419842, -0.009647367563617292, -0.008890216277036745, 0.016076842392097907, -0.00118147128304158, -0.01386848563705787, -0.005577680213154112, 0.0016988578791229643, -0.005555596692169841, 0.0015671451177801388, 0.003990817366570045, 0.008599975183344847, -0.0011617537870682963, -0.020506177185763457, 0.017061140461636485, -0.003877244906413608, -0.0019354677143870462, -0.012789544704434625, 0.007514725471574021, 0.005782742078144005, -0.0034134898015906845, 0.0013470981560849051, 0.006505190422799959, -0.008006873575020732, 0.010000704830688214, -0.028292214619618897, -0.01846187010897985, -0.0156477913933528, 0.0005785108103154992, 0.014915878017330315, -0.006789122271682986, -0.014562540750259393, -0.0018076984056727484, -0.00034781632861719257, 0.006574595840987854, -0.00333461981769755, 0.014158726730749768, -0.00268946402931719, 0.013086095508596683, -0.01842401184615889, -0.01825996309922504, -0.019118066959360414, 0.018121151331526673, 0.0984296504916646, -0.0009953383166315236, -0.013212287855354731, 0.023105729470695377, -0.031876064974089395, -0.018764728760966912, -0.03137129558705721, 0.00027150966460256045, 0.03846327977035628, -0.009218315633549605, 0.009117362128672198, -0.0057858969333790845, 0.0303617624009283, -0.007218174201750673, -0.02383764284671786, -0.008151994121866681, -0.001886568273150561, -0.002515950251016809, -0.01611470065491887, -0.009710463736996315, -0.017389237955504188, 0.041618075400791356, -0.017010662777875205, 0.03182558729032811, 0.005303212929976325, -0.019345212810995865, 0.024367647350340377, 0.04477287103122643, -0.0011183753424932011, -0.03180034844844747, -0.014045153804932042, -0.002520682301038785, 0.006082447737541143, 0.007943777401641709, -0.01764162264902028, -0.028645552818012395, -0.00034899937022651704, 0.024052169277412994, -0.006599834217207205, -0.007924849201553806, 0.011344648015122716, 0.0026705353635679985, 0.00538208291386946, -0.013590863032983715, 0.023925976930654947, -0.004120164102901883, -0.012019774928236337, 0.009533794637799565, -0.0014788109174277307, -0.0044072508070199905, 0.048735294700680755, -0.008599975183344847, -0.01807067364776539, -0.012303706311458076, 0.021313805224782708, -0.01611470065491887, -0.010070110714537398, -0.014057773225872363, -0.0156477913933528, -0.04368762318210076, -0.008126756211308619, -0.01370443595880144, 0.011615960908726712, -0.027888400600109272, -0.042930469101552474, -0.027030296739973897, -0.010354042097759135, 0.0015214006481940557, -0.03308750703261827, -0.016505895253488174, -0.01709899686181229, 0.01189989229194845, -0.029125081500518787, 0.005561906402640001, 0.01578660129840601, 0.007420081211505485, -0.01810853191058635, -0.008044730906519113, 0.008032111485578794, 0.005287439119462214, -0.009098432997261718, -0.012650733868058836, -0.0032336663128201435, -0.02544027950381604, 0.001288734381973824, 0.01386848563705787, 0.029932709539538038, -0.02493551197942901, 0.0027005057898093258, 0.008366520552561813, 0.03677230716667586, 0.016404941748610766, 0.014966354769769019, -0.011597031777316231, -0.006016197174588329, -0.012972523514101535, 0.028595075134251115, -0.024001691593651713, -0.008991169781914152, -0.02559170882980957, 0.00651150013327012, -0.00204115338570175, -0.012644424157588676, -0.002750982542248029, -0.011376196567473518, -0.004934101852391293, 0.013818008884619168, 0.004905708620936861, -0.010448685892166382, -0.006334831499734658, 0.02411526451946944, -0.02301739538675829, 0.009312959427956851, -0.011647508529754935, -0.010574878238924428, 0.018941398791486243, 0.006675549345865259, 0.028595075134251115, -0.010644283191451033, -0.0024008001304121874, -0.009376055601335875, -0.009893441615340648, 0.015256595863460917, 0.01725042805045098, -0.02639933686882882, 0.0056123831550787045, 0.01433539489862394, -0.017982339563828303, -0.0016499585543018013, 0.012638114447118516, -0.014158726730749768, 0.0017603765084691254, -0.02021593609207156, -0.0240900256775888, -0.042829517459320225, -0.014978974190709338, -0.016379702906730124, 0.0032999171086036025, 0.013149191681975708, -0.011186908047336446, -0.019534500399810358, 0.011376196567473518, -0.005104460775456593, -0.01370443595880144, 0.00830342437918279, -0.04065901803577857, -0.014928497438270636, 0.029756041371663863, -0.013300621939291817, 0.013477291038488567, 0.00960320052164875, 0.009685224895115675, -0.005729110470470222, 0.005246426467067462, -0.00668816876680558, -0.05224343039215448, -0.013906342968556253, 0.030033663044415442, 0.008347591421151332, 0.03200225545820228, 0.05582727888397983, -0.00862521402522549, 0.04070949571953986, -9.15014247154855e-06, -0.013717055379741761, -0.0040759970609333404, -0.008871288076948845, -0.006965790905218447, -0.028140785293625365, -0.005574525357919032, 0.00765984601841997, 0.010991310748051795, 0.004864696434203398, -0.013325860781172457, 0.0069784098604974785, 0.006744954764053154, 0.011849415539509748, 0.010884047532704229, 0.0018140079997275864, -0.002228863779729347, 0.013388956023228902, -0.0010986578465199174, -0.0072307936226909935, 0.022941680723761525, 5.875192553308915e-06, 0.0010852499446014716, 0.028847459827767208, 0.002001718393755183, 0.01678351692623975, 0.0026736899859724343, 0.02720696490784807, -0.039901867680520606, 0.0312955827867056, 0.006312747978750387, -0.007792347609986888, -0.0010063800771236593, 0.007420081211505485, -0.010454995602636541, 0.00700995794718699, -0.0013683929632604065, 0.028317453461499536, 0.02054403544858442, -0.0028771744233447864, 0.001828204615454802, 0.0042211176077792895, -0.03255749880370544, -0.021818572749169738, 0.011811558208011365, -0.012322635442868556, -0.01971116856768453, -0.00635691502071893, -0.015584695219973776, -0.01337633753361116, -0.04025520401626895, -0.0009559033246849561, 0.008114136790368298, -0.012442517147833863, 0.026348861047712696, -0.025806235260504705, -0.017515430302262235, -0.01732614271344774, 0.01059380643901233, 0.03490467012041158, -0.009950228078249511, 0.006644001259175748, 0.020342128438829606, -0.00138732174542492, -0.018714252939850788, 0.014978974190709338, 0.0006865625648488522, 0.011641198819284774, 0.027307918412725476, 0.022134052684742278, -0.01939568863211199, 0.004587074295790531, 0.0012090758006872415, -0.020922610626213402, -0.00537261834816422, -0.047927670386951816, -0.010543329686573627, -0.01808329306870571, 0.008435925505088418, -0.012789544704434625, 0.026172191017193366, 0.0023992227027946475, 0.007558892513542564, -0.004855231868498158, 0.0005020069678486746, -0.020064504903432874, -0.025250991915001547, -0.019559739241691, 0.0010860386584102418, -0.019648073325628086, 0.0055082747949662175, 0.008669381067194032, 0.0008131488028499949, 0.0061297696347447665, 0.0033756322372616573, -0.015609933130531838, 0.006637692014366877, -0.009249863254577828, 0.02720696490784807, 0.016947567535818758, 0.007142459073092618, 0.025465518345696683, -0.001621565439262692, -0.0003787727635348045, -0.005432559666308163, 0.013489909528106308, 0.027459349601364164, -0.0025427660548537007, -0.018991874612602367, 0.009508556727241503, 0.02279024953512284, -0.0021799644549081836, -0.014108249978311066, -0.021086659373147253, -0.0042084986525002584, -0.011432982099059802, -0.01140774418850174, 0.005634466676062976, -0.015243976442520596, 0.017818290816894452, -0.02166714156053105, -0.03081605224155405, -0.014259680235627174, -0.02575575943938858, -0.009331887628044754, 0.02301739538675829, -0.029099842658638145, -0.01906758927559913, 0.015105165606144806, 0.010909286374584869, 0.009394983801423777, -0.009047956244823015, -0.03182558729032811, 0.02381240400483722, 0.036620877840682325, -0.008019492995961051, 0.014852781843951291, 0.011660127950695256, -0.006826979603181369, -0.013729674800682082, 0.017894005479891218, 0.0027935723894296762, -0.01567302837258828, 0.005104460775456593, -0.01737661853456387, -0.013616101874864355, 0.011937749623446833, 0.021238090561785942, 0.005145472962190056, -0.02915032034239943, -0.0007583341826707178, -0.0019118066493699123, 0.01577398187746569, 0.009931299878161609, 0.0005753560132880803, -0.023143587733516338, 0.00017420391743496976, 0.023900738088774305, 0.0031216710474506015, 0.015269215284401236, -0.014196584062248151, -0.006839599024121689, -0.01515564235858351, 0.026348861047712696, 0.0002427221635552355, -0.01401991589437398, -0.003599622768000741, -0.00959689081117859, -0.006782812561212826, -0.033516559894008535, -0.008032111485578794, -0.016026366570981783, -0.0026610707978627583, -0.005899469393535522, 0.014057773225872363, 0.020468318922942496, -0.0005236962483438834, 0.013603482453924036, 0.017578525544318678, 0.01678351692623975, -0.00912367183914236, 0.0021657678391809676, -0.008404377884060196, 0.005110770485926753, 2.4807051993159257e-05, -0.03586372748542436, -0.0018329367818921, -0.008555808141376305, 0.004508204311897397, -0.009842964862901944, -0.025175275389359625, -0.00586161206203714, 0.0067134071430249315, -0.029882231855776754, -0.016909709272997796, -0.003162683467014709, 0.017982339563828303, 0.012442517147833863, 0.014941115927888377, 0.024178359761525884, 0.03311274587449891, 0.015887554803283417, 0.023862881688598504, -0.018651157697794345, 0.0003921806363494197, 0.0076282979317304584, 0.01059380643901233, 0.0015900174689885025, -0.024039549856472674, -0.023825023425777542, -0.04222379643005579, 0.015042069432765783, -0.0053473799719448685, -0.011679057082105737, 0.024733604969674198, 0.005094996209751353, -0.02130118580384239, -0.022714534872126074, 0.011067026342371139, 0.016240893001676915, 0.03437466189149875, -0.00048426125639731597, -0.026878865551335212, -0.018121151331526673, 0.002067969189538642, 0.0026027071401669996, 0.00569756238378071, -0.018171627152642797, -0.0018644847521662893, -0.008101517369427977, -0.0016199880116451518, -0.014865401264891612, 0.021225471140845623, -0.005820599409642387, -0.01388110505799819, 0.022954300144701848, -0.013956819720994957, 0.0023866035146849715, 0.019660692746568405, 0.010309875055790592, -0.004741658942680431, -0.0021089813762721044, 0.006751264474523315, -0.01664470702118654, -0.019786883230681295, -0.01370443595880144, -0.030942244588312098, 0.007470557963944188, 0.0065809055514580135, -0.02334549474327115, -0.03598991796953725, 0.005486191273981946, 0.003520753016938251, -0.0013833782927963924, -0.029629849024905817, 0.009117362128672198, 0.006997338526246669, -0.03947281481913034, -0.00993760865730919, 0.02849412162937371, -0.00716769744931197, -0.014171346151690089, -0.001231948035480283, 0.005107615630691674, -0.031194627419183035, -0.007893300649203005, 0.00044876980439076815, -0.015218738531962534, -0.03167415796433458, 0.00783020540714656, 0.03222940130983774, -0.015054688853706104, 0.002304578908387401, 0.2216938594578808, 0.0005327662825217552, 0.013351098691730519, 0.04303142446907504, 0.008574737272786785, 0.001886568273150561, 0.0240900256775888, -0.007325437417098239, -0.00441356051749015, -0.0016783517857562329, -0.0005094996326166676, 0.001016633123807025, 0.005224342946083191, 0.0005047674661793697, -0.01582445956122697, -0.006505190422799959, -0.03770612941509831, -0.025162657831064462, -0.012051322549264559, -0.013123953771417644, 0.014158726730749768, 0.008385448752649715, -0.001784037457070937, -0.03349132105212789, -0.0027919949618121363, -0.009786178399993082, -0.009540104348269726, 0.0018171627385473441, 0.0029844374058617083, -0.0003351971405075168, -0.012448826858304025, -0.033062268190737626, 0.007558892513542564, 0.0011641199284946064, -0.01775519557483801, -0.002743095636990973, 0.007539963847793372, -0.019080208696539452, 0.037529457521933825, 0.026247907542835288, 0.004000281932275285, 0.02607123751231596, 0.0006490993574242099, -0.004378857575565559, -0.020506177185763457, 0.01660684875836558, -0.008543188720435985, -0.01318704901347409, 0.006858527689870881, 0.0003908004162879027, -0.02149047339265688, -0.014903258596389994, 0.011218456599687248, 0.028847459827767208, 0.007672464973699001, 0.006284354747295956, 0.0043283808231268555, 0.006208639618637901, -0.008928074539857707, -0.01482754393339323, -0.003492359785483819, 0.03551039114967602, -0.01824734367828472, 0.022588342525368028, 0.0012634960057544724, 0.023320255901390512, -0.02803983178874796, 0.02917555732163491, -0.002162612983945888, -0.01756590612337836, -0.008675690777664192, 0.005615538010313784, -0.020720703616458593, -0.012675972709939478, -0.005874231017316171, -7.265890630481664e-05, 0.0280650706306286, 0.00814568441139652, 0.017035901619755843, -0.028166024135506007, -0.002247792445478538, -0.027989354104986677, 0.0072434125779700246, -0.009994395120218054, -0.016568990495544618, -0.02915032034239943, -0.004848922158027997, 0.011622270619196873, -0.007249722288440185, 0.001621565439262692, 0.004268439504982912, -0.014474206666322308, 0.013073477018978942, 0.006864837400341041, -0.020947849468094044, 0.045201923892616694, -0.00333461981769755, 0.009275102096458468, -0.008511641099407762, -0.009079504797173817, -0.01388110505799819, -0.011944059333916993, 0.012650733868058836, 0.010354042097759135, -0.026803150888338446, -0.010499162644605084, 0.023724069920900134, 0.0166194681793059, -0.001073419470300566, -0.009262482675518147, 0.00047045902667831576, -0.03629278034681462, 0.0064610233808314165, 0.018966635770721725, 0.007445319587724837, -0.0010537020907426045, -0.016518514674428494, -0.0029229188929308695, 0.019054971717303967, 0.016859233451881672, -0.007489487095354669, -0.018966635770721725, 0.03495514407888255, 0.019029732875423328, -0.0023724068989577555, -0.01581184014028665, -0.020316889596948967, 0.026172191017193366, 0.004864696434203398, -0.02296691770299701, 0.011874654381390388, -0.024102645098529118, 0.040078535848394777, 0.011798938787071044, 0.005609228299843624, -0.019900456156499022, -0.021717619244292333, -0.008107827079898138, -0.02725744259160935, 0.01629136882279304, 0.013048238177098301, 0.0014322776176175554, 0.017073758019931648, -0.0162661299809124, 0.031219866261063677, -0.0030128306373161397, 0.016367083485789805, 0.0009811417009043077, 0.01692232869393812, -0.011508697693379146, -0.030487952885041192, -0.0019181162434247503, -0.007274960664659536, -0.014158726730749768, 0.006549357464768502, -0.014613017502698096, -0.012757997083406403, -0.007735561147078024, -0.003066462244989923, -0.0018408238035644779, -0.03856423141258853, 0.010372971229169616, 0.008177232963747321, -0.0026468741821355423, -0.016707802263242984, -0.00995653778871967, -0.15930460461951473, 0.00571018180472103, 0.023711450499959815, -0.010732617275388118, 0.00962843936352939, -0.025768376997683744, 0.014739208918133564, -0.005823754264877468, -0.02720696490784807, 0.002785685251341976, 0.008051040616989275, 0.0031547965617576535, -0.01910544753842009, 0.002168922694416048, 0.015988508308160822, -0.027938878283870552, -0.012133346922731485, 0.001119164056301971, 0.050199121452725724, 0.0176542420699606, 0.01224061013807905, 0.015054688853706104, 0.017477572039441273, 0.010625354991363132, -0.024102645098529118, 0.012518232742153208, -0.006451558815126176, 0.025288848315177352, 0.006612453638147525, -0.01709899686181229, -0.011035477790020337, -0.012316325732398395, 0.02705553558185454, 0.005558751547404921, 0.0054672621425714656, -0.009546414058739886, -0.005845837785861739, -0.005350534827179948, -0.004158021900061555, 0.010707379364830056, 0.01109857396339936, 0.015395406699836705, 0.00406968735046318, 0.018222104836404077, 0.010581187949394588, 0.006757574184993474, 0.03185082613220876, -0.0017446024651243696, -0.011780010586983141, -0.04431858305324584, 0.019017113454483005, -0.028166024135506007, -0.016038985991922102, -0.0020174924370999388, -0.0002228075036816746, 0.010978692258434054, 0.0046848729454328575, 0.0097987978209334, 0.0024228836513964587, 0.018020197826649265, -0.009830346373284202, -0.013641339785422417, -0.0018108531444925061, -0.03631801918869527, -0.0015379632889322595, -0.00471957542169616, 0.026298383363951416, -0.0034513473659197116, -0.01567302837258828, 0.009533794637799565, -0.012429898658216122, -0.012265848979959693, 0.013515148369986948, 0.006410546628392713, -0.022070955580040675, 0.009016408623794794, -0.0010718421590983481, 0.004807909971294535, 0.01302300026654024, 0.012139656633201646, -0.011843105829039587, 0.028241738798502773, -0.00293080603101857, -0.007943777401641709, -0.0016310297721372877, 0.013300621939291817, -0.01611470065491887, -0.01306085759803862, 0.0006163683746445265, -0.003211582791835872, 0.008170923253277161, -0.03331465288425372, -0.022134052684742278, 0.0003040435271377124, 0.00961581994258907, 0.005344225116709788, -0.010972382547963892, -0.016165176476034993, 0.03245654716147319, -0.009981775699277733, -0.0035459913931576025, 0.00960320052164875, 0.020316889596948967, -0.00700364823671683, 0.0322041624679571, -0.012278468400900014, 0.011672747371635575, 0.020657608374402146, 0.033339888000844045, 0.010309875055790592, 0.005609228299843624, -0.0035333722050479265, 0.020468318922942496, 0.02655076805746751, 0.01449944457688037, 0.030992720409428222, -0.025705281755627297, 0.0029134545600562737, 0.0397756734711174, -0.0011712182363582144, 0.061682582166869386, -0.02279024953512284, -0.038261372760601466, 0.00012145966372775637, 0.0033693227596221418, 0.0007563624563564539, -0.09171624521128482, -0.026878865551335212, 0.017982339563828303, 0.027787447095231867, -0.013754912711240144, 0.009805107531403562, 0.0028929484666895423, -0.001310029305564648, 0.012972523514101535, 0.027989354104986677, -0.008890216277036745, -0.0064484039598910955, -0.0020758560947956974, -0.012013465217766178, -0.0008439080593154143, -0.014852781843951291, 0.017048521040696166, -0.026929343235096492, -0.01938306921117167, 0.023067871207874416, 0.009413912932834258, 0.014436348403501347, 0.0032163150746884923, -0.00848009347837954, -0.023168824712751824, -0.016404941748610766, -0.032128445942315176, 0.01677089750529943, 0.03134605674517656, -0.0032005410313437365, 0.013818008884619168, -0.012549780363181431, -0.016796136347180073, -0.03081605224155405, -0.005634466676062976, 0.008057350327459434, -0.040103774690275415, 0.00260586199540208, 0.0030112532096986, -0.041441407232917185, 0.009338197338514913, -0.01742709621832515, -0.012120728433113744, -0.009861893994312424, -0.01172322412407428, -0.013212287855354731, -0.01581184014028665, -0.016695182842302664, 0.006057209361321792, -0.0024512768828508905, -0.019938314419319984, -0.04368762318210076, -0.02836793114526082, 0.010183682709032546, 0.018121151331526673, -0.0005410476028908569, 0.006694478011614451, 0.011439291809529963, 0.017162092103868733, 0.017187330945749375, 0.0035964679127656607, -0.016228273580736596, 0.004978268894359835, 0.010650592901921194, 0.010284636213909952, -0.002594820234909944, 0.005637621531298056, -0.013477291038488567, 0.015572075799033455, -0.03773136453168864, -0.016745660526063945, 0.018613299434973384, -0.016669944000422023, 0.027964117125751194, -0.016203034738855954, -0.004703801611182048, -0.024670507864972595, -0.01939568863211199, 0.023030014807698614, 0.006492571001859638, -0.010518091776015565, -0.016038985991922102, 0.002096362188162429, 0.006009887464118169, 0.019219020464237818, -0.007672464973699001, -0.019307354548174904, -0.006694478011614451, 0.0015277102422488937, -0.01837353416239761, -0.006927933108058775, 0.016442800011431728, 0.007451629298194997, -0.0007709533707803936, -0.014171346151690089, -0.004467191659502644, -0.0024465445999982704, 0.0062370328500923325, 0.008278186468624727, -0.00031666268614355755, -0.003129558185538302, -0.023408589985327598, -0.016859233451881672, 0.03283512233910217, 0.02935222735215424, -0.01596326946628018, 0.021755477507113295, -0.015584695219973776, 0.0024481220276158103, -0.03081605224155405, 0.0017430250375068295, 0.01531969203683994, 0.006833289313651529, 0.007079363365374884, -0.02301739538675829, 0.00846747405743922, -0.021566188055653645, -0.014512063997820691, -0.001823472332602182, 0.021894287412166504, 0.016758279947004268, 0.010171064219414803, 0.01709899686181229, 0.0012769039076729184, 0.036620877840682325, 0.022638820209129308, 0.00846747405743922, 0.023989072172711394, -0.03243130831959255, 0.021831192170110057, -0.008442235215558579, -0.00846747405743922, 0.008473783767909379, -0.03813517855119826, -0.006306438268280227, 0.02562956709263053, 0.013464671617548246, -0.007148768783562779, -0.005353689682415028, 0.025036465484306415, 0.00766615572889013, 0.016203034738855954, -0.003265214399509655, -0.04219855758817515, -0.0017950792175630726, -0.03159844143869266, -0.025970284007438553, 0.016531134095368813, -0.01974902683050549, -0.00013210710369529528, 0.010284636213909952, 0.014247060814686855, 0.019332593390055546, 0.01973640740956517, 0.003312536296713278, -0.012385730684925, -0.009792488110463241, 9.932679719873329e-05, 0.019938314419319984, 0.00570702694948595, 0.018853064707549154, -0.026475051531825586, 0.01156548415628801, 0.002919764270526434, 0.03800898806708537, -0.014196584062248151, 0.00022142728362015764, -0.004820528926573566, 0.002022224487121914, 0.013893723547615934, 0.011697985282193638, -0.0375042224053435, -0.0025380337720010806, -0.006057209361321792, 0.02922603500539619, -0.0020269567699745345, 0.001979634872770911, 0.007849133607234462, -0.0008194583969048328, -0.010297255634850271, -0.02561694767169021, 0.025478135903991846, 0.03033652355904766, 0.0048583867237332375, -0.04005329700651414, -0.0182725806575202, 0.01727566502968646, 0.023547401753025964, -0.0032620595442745754, 0.018335677762221805, 0.01206394197020488, 0.002430770789484159, -0.043359521962942744, -0.0012650734333720126, -0.032961312823215065, -0.018689014097970146, 0.038337085560953076, 0.02851936047125435, -0.008095207658957817, -0.0025995522849319194, 0.020998325289210168, 0.012215372227520989, 0.0072307936226909935, -0.020455701364647333, -0.0036311708546902526, -0.0074957963401635404, -0.012152276054141965, -0.021730238665232653, 0.008814501614039981, -0.0014764447760014206, -0.00019865359439746657, 0.018348297183162124, 0.008429616725940836, -0.024064788698353316, -0.008057350327459434, -0.0040097464979805255, -0.012840021456873327, 0.029453180857031646, -0.007047815278685372, -0.018853064707549154, -0.037882797582972486, 0.039069000799620716, -0.00783020540714656, 0.020014029082316746, 0.011350957725592876, -0.012373112195307259, 0.03159844143869266, 0.010335112966348654, -0.021957384516868107, -0.03755469636381446, 0.0325322599618248, -0.002006450676607803, 0.003927721658852311, 0.0007417715419325143, -0.021465234550776237, -0.0024291933618666188, -0.002219399446854751, -0.016833994610001034, -0.004536597543351828, 0.040835686203652743, -0.000699576109862913, 0.052495815085670576, -0.009773559910375339, -0.015193499690081892, 0.024973368379604812, 0.021086659373147253, 0.01285895058828381, 0.017906624900831537, 0.003514443306468091, -0.006561976885708822, -0.011944059333916993, 0.0047290399874014, -0.012568709494591912, 0.018789967602847554, -0.005473571853041626, -0.00800056386455057, -0.000973254737439591, -0.006334831499734658, -0.0007772629648352315, -0.014158726730749768, 0.01287787971969429, 0.022235006189619683, -0.002735208498903273, 0.034627046585014844, -0.00065146549885052, -0.016228273580736596, 0.006814360647902338, 0.04661527296090038, -0.0013273806601116214, -0.02118761287802466, -0.031017959251308864, -0.007779728189046567, 0.009357126469925394, -0.010644283191451033, -0.030134616549292847, 0.0052022594250989195, -0.006782812561212826, -0.01076416582773892, 0.0067007877220846114, -0.01682137518906071, 0.02055665486952474, 0.010360351808229296, 0.025490755324932165, -0.01401991589437398, 0.0072560319989103455, 0.007697703349918352, 0.011174289557718705, -0.005183330759349728, -0.01027832743476237, -0.03770612941509831]\n"
          ]
        }
      ]
    }
  ]
}